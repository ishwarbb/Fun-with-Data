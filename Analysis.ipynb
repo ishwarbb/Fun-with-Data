{
 "cells": [
  {
   "cell_type": "markdown",
   "metadata": {},
   "source": [
    "# Analysis"
   ]
  },
  {
   "cell_type": "markdown",
   "metadata": {},
   "source": [
    "## Insight 1 : Indian Courts are Over Burdened"
   ]
  },
  {
   "cell_type": "markdown",
   "metadata": {},
   "source": [
    "### A. Working Days Dilemma "
   ]
  },
  {
   "cell_type": "markdown",
   "metadata": {},
   "source": [
    "Look at the number of days indian courts were working every year"
   ]
  },
  {
   "cell_type": "markdown",
   "metadata": {},
   "source": [
    "<img src=\"./assets/img1.png\" alt=\"Drawing\" style=\"width: 700px;\"/>"
   ]
  },
  {
   "cell_type": "markdown",
   "metadata": {},
   "source": [
    "https://www.datawrapper.de/_/T0b6k/"
   ]
  },
  {
   "cell_type": "markdown",
   "metadata": {},
   "source": [
    "Something Fishy? Why are courts working on literally all days of the year? What about sundays and holidays? I am sure the judges do not work on sundays"
   ]
  },
  {
   "cell_type": "markdown",
   "metadata": {},
   "source": [
    "Well the data set documents every day of the year in some or the other column of the case, be it the date of filing the case, the date of first hearing, date of next hearing, date of lst hearing or the date of decision\n",
    " \n",
    "In fact the date of first hearing alone has all days of the year"
   ]
  },
  {
   "cell_type": "markdown",
   "metadata": {},
   "source": [
    "Now this raises some interesting questions -\n"
   ]
  },
  {
   "cell_type": "markdown",
   "metadata": {},
   "source": [
    "1) Did the court really have the hearing on that day or is the date just nominal ? \n",
    "2) Maybe the court starts processing the case and considers it as first hearing ?\n",
    "3) So does that mean the employees at court work on sundays and holidays too ?"
   ]
  },
  {
   "cell_type": "markdown",
   "metadata": {},
   "source": [
    "### B. Hearing again after a Decision? "
   ]
  },
  {
   "cell_type": "markdown",
   "metadata": {},
   "source": [
    "In some cases, I noticed that the date of last hearing falls after the date of decision. And I was curious as to why they would even hear anything after the judge made his decision.\n",
    "\n",
    "I checked the purpose_name for such a case and it turns out that the court considers stuff like \"written statement\" a purpose of hearing. So it I suspect there os a lot of background paper work that has to be done and thus work spills over on Sundays (?)"
   ]
  },
  {
   "cell_type": "markdown",
   "metadata": {},
   "source": [
    "Nonetheless, we can say that indian courts have huge amount of paperwork and background stuff to work with"
   ]
  },
  {
   "cell_type": "markdown",
   "metadata": {},
   "source": [
    "### C. Open cases explosion"
   ]
  },
  {
   "cell_type": "markdown",
   "metadata": {},
   "source": [
    "Lets see how the number of cases filed and the number of case that remain open (since 2010) have changed over the years. Note here open cases for a year is number of cases that were open in end that year and not open now."
   ]
  },
  {
   "cell_type": "markdown",
   "metadata": {},
   "source": [
    "<img src=\"./assets/img2.png\" alt=\"Drawing\" style=\"width: 700px;\"/>"
   ]
  },
  {
   "cell_type": "markdown",
   "metadata": {},
   "source": [
    "https://www.datawrapper.de/_/hhF8f/"
   ]
  },
  {
   "cell_type": "markdown",
   "metadata": {},
   "source": [
    "We can see that the back-log of open cases crosses total new cases very quickly. 83% of the cases that were filled in 2010, ended up being open."
   ]
  },
  {
   "cell_type": "markdown",
   "metadata": {},
   "source": [
    "With this trend, one might think that the average length of cases over the years would increase because of scheduling problems - that is each next hearing will be pushed further backward."
   ]
  },
  {
   "cell_type": "markdown",
   "metadata": {},
   "source": [
    "### D. Superficial Data might be misleading"
   ]
  },
  {
   "cell_type": "markdown",
   "metadata": {},
   "source": [
    "Let's see the average time a case takes over the years "
   ]
  },
  {
   "cell_type": "markdown",
   "metadata": {},
   "source": [
    "<img src=\"./assets/img3.png\" alt=\"Drawing\" style=\"width: 460px;\"/>  "
   ]
  },
  {
   "cell_type": "markdown",
   "metadata": {},
   "source": [
    "https://www.datawrapper.de/_/sS29T/"
   ]
  },
  {
   "cell_type": "markdown",
   "metadata": {},
   "source": [
    "Hmm. The problem with this is that data sample is that its composition is biased towards the later years due to lack of complete data. (Cases towards the end are still running)"
   ]
  },
  {
   "cell_type": "markdown",
   "metadata": {},
   "source": [
    "Thus, we must be well aware of the nature of the data before drawing any inferences."
   ]
  },
  {
   "cell_type": "markdown",
   "metadata": {},
   "source": [
    "## Insight 2 : Bias in Non Bailable Cases"
   ]
  },
  {
   "cell_type": "markdown",
   "metadata": {},
   "source": [
    "### A. Flaws of the Indian Penal Code ? : Theft"
   ]
  },
  {
   "cell_type": "markdown",
   "metadata": {},
   "source": [
    "* Interesting Observation : The Indian Penal Code alone accounts for _all_  the non-bailable criminal cases in India. Lets explore the trends amongst non-bailable crime cases in India. "
   ]
  },
  {
   "cell_type": "markdown",
   "metadata": {},
   "source": [
    "In the plot below,\n",
    " \n",
    "Each line - A certain IPC section \n",
    "\n",
    "Y axis - No. of criminal cases charged with that section in a particular year\n",
    "\n",
    "X axis - Years"
   ]
  },
  {
   "cell_type": "markdown",
   "metadata": {},
   "source": [
    "<img src=\"./assets/img4.png\" alt=\"Drawing\" style=\"width: 700px;\"/>  "
   ]
  },
  {
   "cell_type": "markdown",
   "metadata": {},
   "source": [
    "https://www.datawrapper.de/_/8Jlgo/"
   ]
  },
  {
   "cell_type": "markdown",
   "metadata": {},
   "source": [
    "* Interesting Obervation - Theft is a non bailable offence in India\n",
    "\n",
    "This is interesting because someting like falsification of accounts (section 477A) is bailable but petty theft is not. Huh ! Weird "
   ]
  },
  {
   "cell_type": "markdown",
   "metadata": {},
   "source": [
    "I wonder how many of those cases are actually genuine, Look at the plot of non-bailable cases that actually resulted in defendant's victory."
   ]
  },
  {
   "cell_type": "markdown",
   "metadata": {},
   "source": [
    "In the plot below,\n",
    " \n",
    "Each line - A certain IPC section \n",
    "\n",
    "Y axis - No. of criminal cases charged with that section AND THE DEFENDANT WON in a particular year\n",
    "\n",
    "X axis - Years"
   ]
  },
  {
   "cell_type": "markdown",
   "metadata": {},
   "source": [
    "<img src=\"./assets/img5.png\" alt=\"Drawing\" style=\"width: 700px;\"/>  "
   ]
  },
  {
   "cell_type": "markdown",
   "metadata": {},
   "source": [
    "https://www.datawrapper.de/_/TzZNZ/"
   ]
  },
  {
   "cell_type": "markdown",
   "metadata": {},
   "source": [
    "Again the abnormally high line is Section 379 which is again Punishment for theft"
   ]
  },
  {
   "cell_type": "markdown",
   "metadata": {},
   "source": [
    "That's a lot of accused people winning cases. For theft, in the year 2018, 277238 people were charged with punishment for theft, of which 25,034 people won the case i.e., 11% people. "
   ]
  },
  {
   "cell_type": "markdown",
   "metadata": {},
   "source": [
    "Lets see how long an average non-bailable case lasts."
   ]
  },
  {
   "cell_type": "markdown",
   "metadata": {},
   "source": [
    "### B. Higher Latency in Non - Bailable cases"
   ]
  },
  {
   "cell_type": "markdown",
   "metadata": {},
   "source": [
    "Now Look at the Average duration non-bailable cases takes"
   ]
  },
  {
   "cell_type": "markdown",
   "metadata": {},
   "source": [
    "<img src=\"./assets/img6.png\" alt=\"Drawing\" style=\"width: 700px;\"/>  "
   ]
  },
  {
   "cell_type": "markdown",
   "metadata": {},
   "source": [
    "https://www.datawrapper.de/_/5dqcf/"
   ]
  },
  {
   "cell_type": "markdown",
   "metadata": {},
   "source": [
    "Let us not consider the later years here beacuse of the resaons discussed in part 1 D. But yeah, take the example of 2010, where an average non-bailable case ran for 355 days higher than an average case. The number was 342 in 2011. This is almost an year longer. That too in jail"
   ]
  },
  {
   "cell_type": "markdown",
   "metadata": {},
   "source": [
    "So imagine a person falsely accused of theft. They have to spend time in jail untill their case is over and they then go on to win the case. All those years spent in jail turn out to be completely unnecessarry. \n",
    "\n",
    "What's more sad is this happens a whole lot of people (For eg: 11 % of total number of people accused of theft won )"
   ]
  },
  {
   "cell_type": "markdown",
   "metadata": {},
   "source": [
    "This might be true for a lot of other crimes too and not just Theft. So yeah, all these things make me question that bias towards non-bailabe cases may be the possible fault lines in the penal code"
   ]
  },
  {
   "cell_type": "markdown",
   "metadata": {},
   "source": [
    "### C. Raising and Falling Crimes - Classifying them"
   ]
  },
  {
   "cell_type": "markdown",
   "metadata": {},
   "source": [
    "Not all crimes show similar trends throught the years. "
   ]
  },
  {
   "cell_type": "markdown",
   "metadata": {},
   "source": [
    "In the all the plots below,\n",
    " \n",
    "Each line - A certain IPC section with the label indicating the section number.\n",
    "\n",
    "Y axis - No. of criminal cases charged with that section in a particular year\n",
    "\n",
    "X axis - Years"
   ]
  },
  {
   "cell_type": "markdown",
   "metadata": {},
   "source": [
    "Some have only exponentially increased (like theft), some other , interstingly have the exact opposite. For instance see these two plots - "
   ]
  },
  {
   "cell_type": "markdown",
   "metadata": {},
   "source": [
    "<img src=\"./assets/img7.png\" alt=\"Drawing\" style=\"width: 500px;\"/>  <img src=\"./assets/img8.png\" alt=\"Drawing\" style=\"width: 500px;\"/>  "
   ]
  },
  {
   "cell_type": "markdown",
   "metadata": {},
   "source": [
    "- Left : IPC Section 365 - Kidnapping                         \n",
    "\n",
    "- Right : IPC Section 234 - Counterfeiting Indian Coin."
   ]
  },
  {
   "cell_type": "markdown",
   "metadata": {},
   "source": [
    "Now there are another kinds of crimes which had their peak sometime middle and now they are on the decline. And those crimes where they dipped in the middle and are now raising fast"
   ]
  },
  {
   "cell_type": "markdown",
   "metadata": {},
   "source": [
    "<img src=\"./assets/img9.png\" alt=\"Drawing\" style=\"width: 500px;\"/> <img src=\"./assets/img10.png\" alt=\"Drawing\" style=\"width: 500px;\"/> "
   ]
  },
  {
   "cell_type": "markdown",
   "metadata": {},
   "source": [
    "- Left : IPC Section 128 - Public servant voluntarily allowing prisoner of State or war to escape \n",
    "\n",
    "- Right : IPC Section 292 - Sale, etc., of obscene books, etc"
   ]
  },
  {
   "cell_type": "markdown",
   "metadata": {},
   "source": [
    "Some falling in both third and fourth category like - "
   ]
  },
  {
   "cell_type": "markdown",
   "metadata": {},
   "source": [
    "<img src=\"./assets/img11.png\" alt=\"Drawing\" style=\"width: 500px;\"/> "
   ]
  },
  {
   "cell_type": "markdown",
   "metadata": {},
   "source": [
    "- IPC Section 267 : Making or selling false weight or measure"
   ]
  },
  {
   "cell_type": "markdown",
   "metadata": {},
   "source": [
    "So yeah, all crimes can be classified into these 4 categories. (Plots for all other sections can be done using the code given in CodeBase)"
   ]
  },
  {
   "cell_type": "markdown",
   "metadata": {},
   "source": [
    "#### D. Popular Crimes"
   ]
  },
  {
   "cell_type": "markdown",
   "metadata": {},
   "source": [
    "Top 10 offences in India over the years - "
   ]
  },
  {
   "cell_type": "markdown",
   "metadata": {},
   "source": [
    "<iframe src='https://flo.uri.sh/visualisation/12498268/embed' title='Interactive or visual content' class='flourish-embed-iframe' frameborder='0' scrolling='no' style='width:1000px;height:600px;' sandbox='allow-same-origin allow-forms allow-scripts allow-downloads allow-popups allow-popups-to-escape-sandbox allow-top-navigation-by-user-activation'></iframe><div style='width:100%!;margin-top:4px!important;text-align:right!important;'><a class='flourish-credit' href='https://public.flourish.studio/visualisation/12498268/?utm_source=embed&utm_campaign=visualisation/12498268' target='_top' style='text-decoration:none!important'><img alt='Made with Flourish' src='https://public.flourish.studio/resources/made_with_flourish.svg' style='width:105px!important;height:16px!important;border:none!important;margin:0!important;'> </a></div>"
   ]
  },
  {
   "cell_type": "markdown",
   "metadata": {},
   "source": [
    "Since we know that theft is the hightest non-bailable crime, the above plot implies Criminal Intimidation is Bailable. Yet another possible flaw in the IPC"
   ]
  },
  {
   "cell_type": "markdown",
   "metadata": {},
   "source": [
    "# Insight 3 : Gender"
   ]
  },
  {
   "cell_type": "markdown",
   "metadata": {},
   "source": [
    "### A. Women in Judiciary"
   ]
  },
  {
   "cell_type": "markdown",
   "metadata": {},
   "source": [
    "Let us look at the percentage of Female judges in india over the years."
   ]
  },
  {
   "cell_type": "markdown",
   "metadata": {},
   "source": [
    "<img src=\"./assets/img19.png\" alt=\"Drawing\" style=\"width: 500px;\"/> "
   ]
  },
  {
   "cell_type": "markdown",
   "metadata": {},
   "source": [
    "* The percentage has been pretty stagnant at around 27%"
   ]
  },
  {
   "cell_type": "markdown",
   "metadata": {},
   "source": [
    "Let us see the state-wise participation of women. Below is a map representing the percentage of female judges from every state. "
   ]
  },
  {
   "cell_type": "markdown",
   "metadata": {},
   "source": [
    "<img src=\"./assets/img12.png\" alt=\"Drawing\" style=\"width: 480px; height: 600px\"/> "
   ]
  },
  {
   "cell_type": "markdown",
   "metadata": {},
   "source": [
    "https://public.flourish.studio/visualisation/12470067/"
   ]
  },
  {
   "cell_type": "markdown",
   "metadata": {},
   "source": [
    "* BIMARU states (especially Bihar) are the state that lag pretty behind while north-eastern states like Meghalaya and Assam have very high participation of women."
   ]
  },
  {
   "cell_type": "markdown",
   "metadata": {},
   "source": [
    "### B. Women in Court"
   ]
  },
  {
   "cell_type": "markdown",
   "metadata": {},
   "source": [
    "Women commit crimes too. Let us see of all the people accused, how many were women - over the years."
   ]
  },
  {
   "cell_type": "markdown",
   "metadata": {},
   "source": [
    "<img src=\"./assets/img13.png\" alt=\"Drawing\" style=\"width: 600px;\"/> "
   ]
  },
  {
   "cell_type": "markdown",
   "metadata": {},
   "source": [
    "Only 14-15% of the total accused were women."
   ]
  },
  {
   "cell_type": "markdown",
   "metadata": {},
   "source": [
    "<img src=\"./assets/img14.png\" alt=\"Drawing\" style=\"width: 600px\"/> "
   ]
  },
  {
   "cell_type": "markdown",
   "metadata": {},
   "source": [
    "And of these 15% accused women ,about 95% of them win their cases."
   ]
  },
  {
   "cell_type": "markdown",
   "metadata": {},
   "source": [
    "* Either women way less likely to commit an offence or the Indian Judiciary is soft towards women."
   ]
  },
  {
   "cell_type": "markdown",
   "metadata": {},
   "source": [
    "# Index\n"
   ]
  },
  {
   "cell_type": "markdown",
   "metadata": {},
   "source": [
    "Insight 1\n",
    "\n",
    "* A. Working Days Dilemma \n",
    "* B. Hearing again after a Decision? \n",
    "* C. Open cases explosion\n",
    "* D. Superficial Data might be misleading\n",
    "\n",
    "Insight 2\n",
    "\n",
    "* A. Flaws of the Indian Penal Code ? : Theft\n",
    "* B. Higher Latency in Non - Bailable cases\n",
    "* C. Raising and Falling Crimes - Classifying them\n",
    "* D. Popular Crimes\n",
    "\n",
    "Insight 3\n",
    "\n",
    "* A. Women in Judiciary\n",
    "* B. Women in Court"
   ]
  }
 ],
 "metadata": {
  "kernelspec": {
   "display_name": "Python 3.10.6 64-bit",
   "language": "python",
   "name": "python3"
  },
  "language_info": {
   "codemirror_mode": {
    "name": "ipython",
    "version": 3
   },
   "file_extension": ".py",
   "mimetype": "text/x-python",
   "name": "python",
   "nbconvert_exporter": "python",
   "pygments_lexer": "ipython3",
   "version": "3.10.6"
  },
  "orig_nbformat": 4,
  "vscode": {
   "interpreter": {
    "hash": "e7370f93d1d0cde622a1f8e1c04877d8463912d04d973331ad4851f04de6915a"
   }
  }
 },
 "nbformat": 4,
 "nbformat_minor": 2
}
