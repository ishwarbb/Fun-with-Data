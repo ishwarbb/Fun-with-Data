{
 "cells": [
  {
   "cell_type": "markdown",
   "metadata": {},
   "source": [
    "# Classification"
   ]
  },
  {
   "cell_type": "markdown",
   "metadata": {},
   "source": [
    "Classification Problem - Amongst cases that made a bail plea, bail granted or not. "
   ]
  },
  {
   "cell_type": "markdown",
   "metadata": {},
   "source": [
    "### Data Pre-processing"
   ]
  },
  {
   "cell_type": "markdown",
   "metadata": {},
   "source": [
    "So in the pre-processing part, I take all the cases data from cases_20xx tables. I filter out for only those cases whose disposition resulted in either 'bail granted' or 'bail rejected' i.e., the cases that made a bail plea.\n",
    "\n",
    "I then split all the column that contains data into three other integer columns in hopes that these might act as useful features while training the model.\n",
    "\n",
    "I drop all the columns like 'ddl_case_id','cino' since I was pretty sure these columns would not have any co-relation with the judgement results. I also drop gender related columns because I dont think those will have any co-relation either.\n",
    "\n",
    "I lastly drop the disp_name column because it is what I am trying to classifying and if I dont drop it I will 100% accuray (lol).\n",
    "\n",
    "I add a new column 'target_y' which is True if bail was granted and False if bail was rejected. (I also remove this column before training ofcourse xP).\n"
   ]
  },
  {
   "cell_type": "code",
   "execution_count": 2,
   "metadata": {},
   "outputs": [],
   "source": [
    "paths = {\n",
    "    \"cases_2010\" : \"/home/ishwar/data/cases/cases/cases_2010.csv\",\n",
    "    \"cases_2011\" : \"/home/ishwar/data/cases/cases/cases_2011.csv\",\n",
    "    \"cases_2012\" : \"/home/ishwar/data/cases/cases/cases_2012.csv\",\n",
    "    \"cases_2013\" : \"/home/ishwar/data/cases/cases/cases_2013.csv\",\n",
    "    \"cases_2014\" : \"/home/ishwar/data/cases/cases/cases_2014.csv\",\n",
    "    \"cases_2015\" : \"/home/ishwar/data/cases/cases/cases_2015.csv\",\n",
    "    \"cases_2016\" : \"/home/ishwar/data/cases/cases/cases_2016.csv\",\n",
    "    \"cases_2017\" : \"/home/ishwar/data/cases/cases/cases_2017.csv\",\n",
    "    \"cases_2018\" : \"/home/ishwar/data/cases/cases/cases_2018.csv\",\n",
    "    \"judges\" : \"/home/ishwar/data/judges_clean/judges_clean.csv\",\n",
    "    \"judges_key\" : \"/home/ishwar/data/keys/keys/judge_case_merge_key.csv\",\n",
    "    \"cases_state_key\" : \"/home/ishwar/data/keys/keys/cases_state_key.csv\",\n",
    "    \"type_name_key\" : \"/home/ishwar/data/keys/keys/type_name_key.csv\",\n",
    "    \"acts_sections\" : \"/home/ishwar/data/acts_sections/acts_sections.csv\"\n",
    "}\n",
    "\n",
    "years = [2010, 2011, 2012, 2013 ,2014,2015 ,2016, 2017,2018]\n",
    "cases = [\"cases_2010\",\"cases_2011\",\"cases_2012\", \"cases_2013\",\"cases_2014\",\"cases_2015\",\"cases_2016\",\"cases_2017\",\"cases_2018\"]\n",
    "\n",
    "import polars as pl\n",
    "df = pl.read_csv(paths['cases_2010'],parse_dates=True)\n",
    "list = [8,9]\n",
    "df = df.filter(pl.col(['disp_name']).is_in(list))\n",
    "for i in range(1,len(cases)):\n",
    "    x = pl.read_csv(paths[cases[i]],parse_dates=True)\n",
    "    x = x.filter(pl.col(['disp_name']).is_in(list))\n",
    "    df = pl.concat([df,x])\n",
    "df = df.drop_nulls()\n",
    "\n",
    "def d(x):\n",
    "    try:\n",
    "        return x.day\n",
    "    except:\n",
    "        return 0\n",
    "\n",
    "def m(x):\n",
    "    try:\n",
    "        return x.month\n",
    "    except:\n",
    "        return 0\n",
    "\n",
    "def y(x):\n",
    "    try:\n",
    "        return x.year\n",
    "    except:\n",
    "        return 0\n",
    "\n",
    "df = df.with_columns([\n",
    "    (pl.col(\"date_next_list\").apply(d)).alias(\"date_next_list_d\"),\n",
    "    (pl.col(\"date_next_list\").apply(m)).alias(\"date_next_list_m\"),\n",
    "    (pl.col(\"date_next_list\").apply(y)).alias(\"date_next_list_y\"),\n",
    "\n",
    "    (pl.col(\"date_last_list\").apply(d)).alias(\"date_last_list_d\"),\n",
    "    (pl.col(\"date_last_list\").apply(m)).alias(\"date_last_list_m\"),\n",
    "    (pl.col(\"date_last_list\").apply(y)).alias(\"date_last_list_y\"),\n",
    "\n",
    "    (pl.col(\"date_first_list\").apply(d)).alias(\"date_first_list_d\"),\n",
    "    (pl.col(\"date_first_list\").apply(m)).alias(\"date_first_list_m\"),\n",
    "    (pl.col(\"date_first_list\").apply(y)).alias(\"date_first_list_y\"),\n",
    "\n",
    "    (pl.col(\"date_of_decision\").apply(d)).alias(\"date_of_decision_d\"),\n",
    "    (pl.col(\"date_of_decision\").apply(m)).alias(\"date_of_decision_m\"),\n",
    "    (pl.col(\"date_of_decision\").apply(y)).alias(\"date_of_decision_y\"),\n",
    "\n",
    "    (pl.col(\"date_of_filing\").apply(d)).alias(\"date_of_filing_d\"),\n",
    "    (pl.col(\"date_of_filing\").apply(m)).alias(\"date_of_filing_m\"),\n",
    "    (pl.col(\"date_of_filing\").apply(y)).alias(\"date_of_filing_y\"),\n",
    "])\n",
    "\n",
    "df = df.drop([\"date_next_list\",\"date_last_list\",\"date_first_list\",\"date_of_decision\",\"date_of_filing\"])\n",
    "\n",
    "df = df.with_column(pl.col('disp_name').apply(lambda x : x == 8).alias(\"target_y\"))\n",
    "\n",
    "df =df.drop(['ddl_case_id','cino'])\n",
    "df = df.drop(['female_defendant','female_petitioner','female_adv_def','female_adv_pet','judge_position'])\n",
    "df =df.drop(['disp_name'])\n"
   ]
  },
  {
   "cell_type": "markdown",
   "metadata": {},
   "source": [
    "# Training"
   ]
  },
  {
   "cell_type": "markdown",
   "metadata": {},
   "source": [
    "Here I am using Naive Bayes Model to train the data. I am training on 80% of the data and then will test on the remaining 20%. Good thing about the train_test_split() function is that it well shuffles the data before spliting."
   ]
  },
  {
   "cell_type": "code",
   "execution_count": 3,
   "metadata": {},
   "outputs": [
    {
     "name": "stdout",
     "output_type": "stream",
     "text": [
      "shape: (91286, 21)\n",
      "┌──────┬──────────┬───────────┬──────────┬─────┬────────────┬────────────┬────────────┬────────────┐\n",
      "│ year ┆ state_co ┆ dist_code ┆ court_no ┆ ... ┆ date_of_de ┆ date_of_fi ┆ date_of_fi ┆ date_of_fi │\n",
      "│ ---  ┆ de       ┆ ---       ┆ ---      ┆     ┆ cision_y   ┆ ling_d     ┆ ling_m     ┆ ling_y     │\n",
      "│ i64  ┆ ---      ┆ i64       ┆ i64      ┆     ┆ ---        ┆ ---        ┆ ---        ┆ ---        │\n",
      "│      ┆ i64      ┆           ┆          ┆     ┆ i64        ┆ i64        ┆ i64        ┆ i64        │\n",
      "╞══════╪══════════╪═══════════╪══════════╪═════╪════════════╪════════════╪════════════╪════════════╡\n",
      "│ 2018 ┆ 1        ┆ 30        ┆ 17       ┆ ... ┆ 2018       ┆ 3          ┆ 10         ┆ 2018       │\n",
      "│ 2017 ┆ 1        ┆ 25        ┆ 1        ┆ ... ┆ 2017       ┆ 30         ┆ 5          ┆ 2017       │\n",
      "│ 2018 ┆ 10       ┆ 7         ┆ 15       ┆ ... ┆ 2018       ┆ 9          ┆ 6          ┆ 2018       │\n",
      "│ 2017 ┆ 1        ┆ 25        ┆ 24       ┆ ... ┆ 2017       ┆ 21         ┆ 11         ┆ 2017       │\n",
      "│ ...  ┆ ...      ┆ ...       ┆ ...      ┆ ... ┆ ...        ┆ ...        ┆ ...        ┆ ...        │\n",
      "│ 2017 ┆ 1        ┆ 3         ┆ 20       ┆ ... ┆ 2017       ┆ 24         ┆ 10         ┆ 2017       │\n",
      "│ 2018 ┆ 9        ┆ 33        ┆ 22       ┆ ... ┆ 2018       ┆ 18         ┆ 12         ┆ 2018       │\n",
      "│ 2017 ┆ 8        ┆ 4         ┆ 2        ┆ ... ┆ 2017       ┆ 11         ┆ 9          ┆ 2017       │\n",
      "│ 2016 ┆ 24       ┆ 4         ┆ 5        ┆ ... ┆ 2016       ┆ 13         ┆ 12         ┆ 2016       │\n",
      "└──────┴──────────┴───────────┴──────────┴─────┴────────────┴────────────┴────────────┴────────────┘ shape: (91286, 1)\n",
      "┌──────────┐\n",
      "│ target_y │\n",
      "│ ---      │\n",
      "│ bool     │\n",
      "╞══════════╡\n",
      "│ true     │\n",
      "│ true     │\n",
      "│ true     │\n",
      "│ true     │\n",
      "│ ...      │\n",
      "│ true     │\n",
      "│ true     │\n",
      "│ true     │\n",
      "│ true     │\n",
      "└──────────┘\n"
     ]
    },
    {
     "data": {
      "text/html": [
       "<style>#sk-container-id-1 {color: black;background-color: white;}#sk-container-id-1 pre{padding: 0;}#sk-container-id-1 div.sk-toggleable {background-color: white;}#sk-container-id-1 label.sk-toggleable__label {cursor: pointer;display: block;width: 100%;margin-bottom: 0;padding: 0.3em;box-sizing: border-box;text-align: center;}#sk-container-id-1 label.sk-toggleable__label-arrow:before {content: \"▸\";float: left;margin-right: 0.25em;color: #696969;}#sk-container-id-1 label.sk-toggleable__label-arrow:hover:before {color: black;}#sk-container-id-1 div.sk-estimator:hover label.sk-toggleable__label-arrow:before {color: black;}#sk-container-id-1 div.sk-toggleable__content {max-height: 0;max-width: 0;overflow: hidden;text-align: left;background-color: #f0f8ff;}#sk-container-id-1 div.sk-toggleable__content pre {margin: 0.2em;color: black;border-radius: 0.25em;background-color: #f0f8ff;}#sk-container-id-1 input.sk-toggleable__control:checked~div.sk-toggleable__content {max-height: 200px;max-width: 100%;overflow: auto;}#sk-container-id-1 input.sk-toggleable__control:checked~label.sk-toggleable__label-arrow:before {content: \"▾\";}#sk-container-id-1 div.sk-estimator input.sk-toggleable__control:checked~label.sk-toggleable__label {background-color: #d4ebff;}#sk-container-id-1 div.sk-label input.sk-toggleable__control:checked~label.sk-toggleable__label {background-color: #d4ebff;}#sk-container-id-1 input.sk-hidden--visually {border: 0;clip: rect(1px 1px 1px 1px);clip: rect(1px, 1px, 1px, 1px);height: 1px;margin: -1px;overflow: hidden;padding: 0;position: absolute;width: 1px;}#sk-container-id-1 div.sk-estimator {font-family: monospace;background-color: #f0f8ff;border: 1px dotted black;border-radius: 0.25em;box-sizing: border-box;margin-bottom: 0.5em;}#sk-container-id-1 div.sk-estimator:hover {background-color: #d4ebff;}#sk-container-id-1 div.sk-parallel-item::after {content: \"\";width: 100%;border-bottom: 1px solid gray;flex-grow: 1;}#sk-container-id-1 div.sk-label:hover label.sk-toggleable__label {background-color: #d4ebff;}#sk-container-id-1 div.sk-serial::before {content: \"\";position: absolute;border-left: 1px solid gray;box-sizing: border-box;top: 0;bottom: 0;left: 50%;z-index: 0;}#sk-container-id-1 div.sk-serial {display: flex;flex-direction: column;align-items: center;background-color: white;padding-right: 0.2em;padding-left: 0.2em;position: relative;}#sk-container-id-1 div.sk-item {position: relative;z-index: 1;}#sk-container-id-1 div.sk-parallel {display: flex;align-items: stretch;justify-content: center;background-color: white;position: relative;}#sk-container-id-1 div.sk-item::before, #sk-container-id-1 div.sk-parallel-item::before {content: \"\";position: absolute;border-left: 1px solid gray;box-sizing: border-box;top: 0;bottom: 0;left: 50%;z-index: -1;}#sk-container-id-1 div.sk-parallel-item {display: flex;flex-direction: column;z-index: 1;position: relative;background-color: white;}#sk-container-id-1 div.sk-parallel-item:first-child::after {align-self: flex-end;width: 50%;}#sk-container-id-1 div.sk-parallel-item:last-child::after {align-self: flex-start;width: 50%;}#sk-container-id-1 div.sk-parallel-item:only-child::after {width: 0;}#sk-container-id-1 div.sk-dashed-wrapped {border: 1px dashed gray;margin: 0 0.4em 0.5em 0.4em;box-sizing: border-box;padding-bottom: 0.4em;background-color: white;}#sk-container-id-1 div.sk-label label {font-family: monospace;font-weight: bold;display: inline-block;line-height: 1.2em;}#sk-container-id-1 div.sk-label-container {text-align: center;}#sk-container-id-1 div.sk-container {/* jupyter's `normalize.less` sets `[hidden] { display: none; }` but bootstrap.min.css set `[hidden] { display: none !important; }` so we also need the `!important` here to be able to override the default hidden behavior on the sphinx rendered scikit-learn.org. See: https://github.com/scikit-learn/scikit-learn/issues/21755 */display: inline-block !important;position: relative;}#sk-container-id-1 div.sk-text-repr-fallback {display: none;}</style><div id=\"sk-container-id-1\" class=\"sk-top-container\"><div class=\"sk-text-repr-fallback\"><pre>GaussianNB()</pre><b>In a Jupyter environment, please rerun this cell to show the HTML representation or trust the notebook. <br />On GitHub, the HTML representation is unable to render, please try loading this page with nbviewer.org.</b></div><div class=\"sk-container\" hidden><div class=\"sk-item\"><div class=\"sk-estimator sk-toggleable\"><input class=\"sk-toggleable__control sk-hidden--visually\" id=\"sk-estimator-id-1\" type=\"checkbox\" checked><label for=\"sk-estimator-id-1\" class=\"sk-toggleable__label sk-toggleable__label-arrow\">GaussianNB</label><div class=\"sk-toggleable__content\"><pre>GaussianNB()</pre></div></div></div></div></div>"
      ],
      "text/plain": [
       "GaussianNB()"
      ]
     },
     "execution_count": 3,
     "metadata": {},
     "output_type": "execute_result"
    }
   ],
   "source": [
    "\n",
    "from sklearn.model_selection import train_test_split\n",
    "\n",
    "train, test = train_test_split(df, test_size=0.2)\n",
    "X_train, X_test, y_train, y_test = train_test_split(df[['year','state_code','dist_code','court_no','type_name','purpose_name','date_next_list_d','date_next_list_m','date_next_list_y','date_last_list_d','date_last_list_m','date_last_list_y','date_first_list_d','date_first_list_m','date_first_list_y','date_of_decision_d','date_of_decision_m','date_of_decision_y','date_of_filing_d','date_of_filing_m','date_of_filing_y']], df['target_y'],test_size=0.2)\n",
    "\n",
    "from sklearn.naive_bayes import GaussianNB\n",
    "import numpy as np\n",
    "\n",
    "clf = GaussianNB()\n",
    "\n",
    "X_encoded = X_train\n",
    "y_train = pl.DataFrame(y_train)\n",
    "\n",
    "print(X_encoded,y_train)\n",
    "\n",
    "clf.fit(X_encoded.to_numpy(), y_train.to_numpy().ravel())"
   ]
  },
  {
   "cell_type": "markdown",
   "metadata": {},
   "source": [
    "# Testing"
   ]
  },
  {
   "cell_type": "markdown",
   "metadata": {},
   "source": [
    "So I test the trained model on remaining 20% of the data. I get the predicted classes for test cases and compare them with actual y classes using various scores like precision_score, recall_score, f1_score , roc_auc_score, accuracy_score."
   ]
  },
  {
   "cell_type": "code",
   "execution_count": 18,
   "metadata": {},
   "outputs": [
    {
     "data": {
      "image/png": "[encoded data removed]",
      "text/plain": [
       "<Figure size 600x500 with 2 Axes>"
      ]
     },
     "metadata": {},
     "output_type": "display_data"
    },
    {
     "name": "stdout",
     "output_type": "stream",
     "text": [
      "Confusion Matrix = \n",
      " [[0.92307692 0.07692308]\n",
      " [0.05917368 0.94082632]]\n",
      "precision_score =  0.9994847292486415\n",
      "recall_score =  0.9408263150932581\n",
      "f1_score =  0.9692688577463828\n",
      "accuracy_score =  0.9407150994654281\n",
      "roc_auc_score =  0.9319516190850907\n"
     ]
    },
    {
     "name": "stderr",
     "output_type": "stream",
     "text": [
      "/home/ishwar/.local/lib/python3.10/site-packages/sklearn/utils/deprecation.py:87: FutureWarning: Function plot_roc_curve is deprecated; Function :func:`plot_roc_curve` is deprecated in 1.0 and will be removed in 1.2. Use one of the class methods: :meth:`sklearn.metrics.RocCurveDisplay.from_predictions` or :meth:`sklearn.metrics.RocCurveDisplay.from_estimator`.\n",
      "  warnings.warn(msg, category=FutureWarning)\n"
     ]
    },
    {
     "data": {
      "image/png": "[encoded data removed]",
      "text/plain": [
       "<Figure size 640x480 with 1 Axes>"
      ]
     },
     "metadata": {},
     "output_type": "display_data"
    }
   ],
   "source": [
    "from sklearn.model_selection import cross_val_predict\n",
    "from sklearn.metrics import confusion_matrix\n",
    "\n",
    "y_train_pred = clf.predict(X_test.to_numpy())\n",
    "x = confusion_matrix(y_test, y_train_pred)\n",
    "\n",
    "import seaborn as sns\n",
    "import matplotlib.pyplot as plt\n",
    "\n",
    "# Normalise\n",
    "x = x.astype('float') / x.sum(axis=1)[:, np.newaxis]\n",
    "fig, ax = plt.subplots(figsize=(6,5))\n",
    "sns.heatmap(x, annot=True, fmt='.2f')\n",
    "plt.ylabel('Actual')\n",
    "plt.xlabel('Predicted')\n",
    "plt.show()\n",
    "\n",
    "print(\"Confusion Matrix = \\n\",x)\n",
    "\n",
    "from sklearn.metrics import precision_score, recall_score, f1_score , roc_auc_score, accuracy_score\n",
    "a = precision_score(y_test, y_train_pred) \n",
    "b = recall_score(y_test, y_train_pred)\n",
    "c = f1_score(y_test, y_train_pred)\n",
    "d = accuracy_score(y_test, y_train_pred)\n",
    "e = roc_auc_score(y_test, y_train_pred)\n",
    "print(\"precision_score = \",a)\n",
    "print(\"recall_score = \",b)\n",
    "print(\"f1_score = \",c)\n",
    "print(\"accuracy_score = \",d)\n",
    "print(\"roc_auc_score = \",e)\n",
    "\n",
    "from sklearn import metrics\n",
    "metrics.plot_roc_curve(clf, X_test.to_numpy(), y_test.to_numpy().ravel()) \n",
    "plt.show()"
   ]
  },
  {
   "cell_type": "markdown",
   "metadata": {},
   "source": [
    "### Analyzing Performance"
   ]
  },
  {
   "cell_type": "markdown",
   "metadata": {},
   "source": [
    "The Model seems pretty good. It has Accuray around 0.94 and pretty good precision,recall and f1 scores"
   ]
  },
  {
   "cell_type": "markdown",
   "metadata": {},
   "source": [
    "<img src=\"./assets/img18.png\" alt=\"Drawing\" style=\"width: 700px;\"/>"
   ]
  },
  {
   "cell_type": "markdown",
   "metadata": {},
   "source": [
    "Here precision is better than recall. That means the model is better at recognising True Positives over True Negatives"
   ]
  },
  {
   "cell_type": "markdown",
   "metadata": {},
   "source": [
    "The confusion Matrix looks pretty neat - "
   ]
  },
  {
   "cell_type": "markdown",
   "metadata": {},
   "source": [
    "<img src=\"./assets/img15.png\" alt=\"Drawing\" style=\"width: 400px; height: 350px;\"/>"
   ]
  },
  {
   "cell_type": "markdown",
   "metadata": {},
   "source": [
    "And the roc curve looks like this - "
   ]
  },
  {
   "cell_type": "markdown",
   "metadata": {},
   "source": [
    "<img src=\"./assets/img16.png\" alt=\"Drawing\" style=\"width: 500px;\"/>"
   ]
  },
  {
   "cell_type": "markdown",
   "metadata": {},
   "source": []
  }
 ],
 "metadata": {
  "kernelspec": {
   "display_name": "Python 3.10.6 64-bit",
   "language": "python",
   "name": "python3"
  },
  "language_info": {
   "codemirror_mode": {
    "name": "ipython",
    "version": 3
   },
   "file_extension": ".py",
   "mimetype": "text/x-python",
   "name": "python",
   "nbconvert_exporter": "python",
   "pygments_lexer": "ipython3",
   "version": "3.10.6"
  },
  "orig_nbformat": 4,
  "vscode": {
   "interpreter": {
    "hash": "e7370f93d1d0cde622a1f8e1c04877d8463912d04d973331ad4851f04de6915a"
   }
  }
 },
 "nbformat": 4,
 "nbformat_minor": 2
}
